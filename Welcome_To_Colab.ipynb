{
  "cells": [
    {
      "cell_type": "markdown",
      "metadata": {
        "id": "view-in-github",
        "colab_type": "text"
      },
      "source": [
        "<a href=\"https://colab.research.google.com/github/Lakshit099/SE-LAB-0861/blob/main/Welcome_To_Colab.ipynb\" target=\"_parent\"><img src=\"https://colab.research.google.com/assets/colab-badge.svg\" alt=\"Open In Colab\"/></a>"
      ]
    },
    {
      "cell_type": "code",
      "source": [],
      "metadata": {
        "id": "1UaLRk6jcCYL"
      },
      "execution_count": null,
      "outputs": []
    },
    {
      "cell_type": "markdown",
      "source": [
        "1.Hardcoding Variables"
      ],
      "metadata": {
        "id": "ZzymPGDZcCjS"
      }
    },
    {
      "cell_type": "code",
      "source": [
        "# Hard-Coding Variables\n",
        "number1 = 56\n",
        "number2 = 7\n",
        "\n",
        "# Performing an operation using hard-coded values\n",
        "result = number1 + number2\n",
        "print(f\"Hardcoded result of {number1} + {number2} = {result}\")"
      ],
      "metadata": {
        "id": "pXmWr9WjcKU7",
        "outputId": "8d212e1d-96cf-4667-eeb0-92753d7c9d1f",
        "colab": {
          "base_uri": "https://localhost:8080/"
        }
      },
      "execution_count": 19,
      "outputs": [
        {
          "output_type": "stream",
          "name": "stdout",
          "text": [
            "Hardcoded result of 56 + 7 = 63\n"
          ]
        }
      ]
    },
    {
      "cell_type": "markdown",
      "source": [
        "2.Keyboard Input"
      ],
      "metadata": {
        "id": "wrA7cIjLcecr"
      }
    },
    {
      "cell_type": "code",
      "source": [
        "# Keyboard Input\n",
        "user_input = input(\"Enter a number: \")\n",
        "user_input = int(user_input)  # Convert the input to an integer\n",
        "\n",
        "# Perform a simple addition\n",
        "total = result + user_input\n",
        "print(f\"Sum of hardcoded result and user input: {total}\")"
      ],
      "metadata": {
        "id": "hD9BGk6Zc9PJ",
        "outputId": "43c594bb-f86f-49cd-e33e-6a96c5dacd27",
        "colab": {
          "base_uri": "https://localhost:8080/"
        }
      },
      "execution_count": 25,
      "outputs": [
        {
          "output_type": "stream",
          "name": "stdout",
          "text": [
            "Enter a number: 69\n",
            "Sum of hardcoded result and user input: 132\n"
          ]
        }
      ]
    }
  ],
  "metadata": {
    "colab": {
      "name": "Welcome To Colab",
      "toc_visible": true,
      "provenance": [],
      "include_colab_link": true
    },
    "kernelspec": {
      "display_name": "Python 3",
      "name": "python3"
    }
  },
  "nbformat": 4,
  "nbformat_minor": 0
}